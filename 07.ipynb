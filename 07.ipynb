{
 "cells": [
  {
   "cell_type": "code",
   "execution_count": 10,
   "metadata": {},
   "outputs": [
    {
     "data": {
      "text/plain": [
       "850"
      ]
     },
     "execution_count": 10,
     "metadata": {},
     "output_type": "execute_result"
    }
   ],
   "source": [
    "def load_data(filename):\n",
    "    result = []\n",
    "    with open(filename) as f:\n",
    "        for line in f:\n",
    "            # Split on colon\n",
    "            time_str, nums_str = line.strip().split(':')\n",
    "            # Convert first part to int\n",
    "            time = int(time_str)\n",
    "            # Convert second part to list of ints\n",
    "            nums = [int(x) for x in nums_str.strip().split()]\n",
    "            result.append((time, nums))\n",
    "    return result\n",
    "\n",
    "data = load_data('07.txt')\n",
    "# data\n",
    "len(data)"
   ]
  },
  {
   "cell_type": "code",
   "execution_count": 11,
   "metadata": {},
   "outputs": [],
   "source": [
    "def validate_list(target, data):\n",
    "    ops = 2**(len(data) - 1)\n",
    "    # print(ops)\n",
    "    for i in range(ops):\n",
    "        value = data[0]\n",
    "        for j in range(1, len(data)):\n",
    "            if i & (1 << j-1):\n",
    "                value *= data[j]\n",
    "            else:\n",
    "                value += data[j]\n",
    "        # print(target, i, value)\n",
    "        if(value == target):\n",
    "            return True\n",
    "    return False\n",
    "\n",
    "# validate_list(5, [1,2,3])"
   ]
  },
  {
   "cell_type": "code",
   "execution_count": 12,
   "metadata": {},
   "outputs": [],
   "source": [
    "validated_lists = [x for x in data if validate_list(x[0], x[1])]\n",
    "\n",
    "# validated_lists"
   ]
  },
  {
   "cell_type": "code",
   "execution_count": 13,
   "metadata": {},
   "outputs": [
    {
     "data": {
      "text/plain": [
       "4364915411363"
      ]
     },
     "execution_count": 13,
     "metadata": {},
     "output_type": "execute_result"
    }
   ],
   "source": [
    "part_1 = sum(([x[0] for x in validated_lists]))\n",
    "\n",
    "part_1"
   ]
  },
  {
   "cell_type": "markdown",
   "metadata": {},
   "source": [
    "# Part 2"
   ]
  },
  {
   "cell_type": "code",
   "execution_count": 14,
   "metadata": {},
   "outputs": [],
   "source": [
    "from math import log, floor, ceil\n",
    "from itertools import product\n",
    "def validate_list_2(target, data):\n",
    "    # ops = 3**(len(data) - 1)\n",
    "    # print(ops)\n",
    "    oparr = product([0, 1, 2], repeat=len(data)-1)\n",
    "    for opset in oparr:\n",
    "        # print(opset)\n",
    "    # return False\n",
    "    # for i in range(ops):\n",
    "        value = data[0]\n",
    "        olds = 0\n",
    "        for j in range(1, len(data)):\n",
    "            code = opset[j-1]\n",
    "            if(code  == None):\n",
    "                raise Exception(\"bad j index \" + str(j))\n",
    "            # print(code)\n",
    "            # code = ((i % 3**j) - olds) / 3**(j-1)\n",
    "            # print(\"for ops\", i, \"for position\", j, \"power\", 3**j, \"code\", code, \"old\", olds)\n",
    "            # olds += code * 3**(j-1)\n",
    "            if(code == 0):\n",
    "                value *= data[j]\n",
    "            elif(code == 1):\n",
    "                value += data[j]\n",
    "            elif(code == 2):\n",
    "                oldvalue = value\n",
    "                # print(\"monkey math from \", data[j], \"to\", value, ceil(log(data[j], 10)))\n",
    "                value = int(str(value) + str(data[j]))\n",
    "                # value2 = oldvalue * 10**((ceil(log(data[j], 10)+0.00001))) + data[j]\n",
    "                # if(value != value2):  \n",
    "                #     print(\"monkey math discrepancy\", value2, value, oldvalue, data[j])\n",
    "                # value = value2\n",
    "                # print(\"monkey math discrepancy\", value2 - value)\n",
    "                # print(\"monkey math answer\", value, \"from\", oldvalue ,\"and\", data[j])\n",
    "            else:\n",
    "                raise Exception(\"bad code \" + str(code))\n",
    "        # print(target, i, value)\n",
    "        if(value == target):\n",
    "            return True\n",
    "    return False\n"
   ]
  },
  {
   "cell_type": "code",
   "execution_count": 15,
   "metadata": {},
   "outputs": [],
   "source": [
    "unvalidated_lists = [x for x in data if x not in validated_lists]\n",
    "\n",
    "# unvalidated_lists"
   ]
  },
  {
   "cell_type": "code",
   "execution_count": 16,
   "metadata": {},
   "outputs": [],
   "source": [
    "# validate_list_2(10995267, [4, 1, 9, 1, 4, 2, 3, 1, 84, 9, 6])"
   ]
  },
  {
   "cell_type": "code",
   "execution_count": 17,
   "metadata": {},
   "outputs": [],
   "source": [
    "revalidated_lists = [x for x in unvalidated_lists if validate_list_2(x[0], x[1])]\n",
    "\n",
    "# revalidated_lists"
   ]
  },
  {
   "cell_type": "code",
   "execution_count": 18,
   "metadata": {},
   "outputs": [
    {
     "data": {
      "text/plain": [
       "38322057216320"
      ]
     },
     "execution_count": 18,
     "metadata": {},
     "output_type": "execute_result"
    }
   ],
   "source": [
    "revalidated_total = sum(([x[0] for x in revalidated_lists]))\n",
    "complete_total = revalidated_total + sum(([x[0] for x in validated_lists]))\n",
    "\n",
    "complete_total"
   ]
  }
 ],
 "metadata": {
  "kernelspec": {
   "display_name": ".venv",
   "language": "python",
   "name": "python3"
  },
  "language_info": {
   "codemirror_mode": {
    "name": "ipython",
    "version": 3
   },
   "file_extension": ".py",
   "mimetype": "text/x-python",
   "name": "python",
   "nbconvert_exporter": "python",
   "pygments_lexer": "ipython3",
   "version": "3.13.0"
  }
 },
 "nbformat": 4,
 "nbformat_minor": 2
}
