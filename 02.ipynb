{
 "cells": [
  {
   "cell_type": "code",
   "execution_count": 34,
   "metadata": {},
   "outputs": [],
   "source": [
    "# Read the test file and convert to list of list of integers\n",
    "with open('02.txt', 'r') as file:\n",
    "    lines = file.read().splitlines()\n",
    "    \n",
    "# Convert each line into a list of integers\n",
    "number_lists = [[int(num) for num in line.split()] for line in lines]\n",
    "\n",
    "# Display the result\n",
    "# print(number_lists)\n",
    "# number_lists"
   ]
  },
  {
   "cell_type": "markdown",
   "metadata": {},
   "source": [
    "# Part 1\n",
    "Done by hand (with inline autocomplete w/Windsurf)"
   ]
  },
  {
   "cell_type": "code",
   "execution_count": 29,
   "metadata": {},
   "outputs": [
    {
     "data": {
      "text/plain": [
       "463"
      ]
     },
     "execution_count": 29,
     "metadata": {},
     "output_type": "execute_result"
    }
   ],
   "source": [
    "def is_safe(list):\n",
    "    is_ascending = list[0] < list[1]\n",
    "    for i in range(1, len(list)):\n",
    "        diff = list[i] - list[i-1]\n",
    "        if diff == 0 or abs(diff) > 3:\n",
    "            return False\n",
    "        elif diff < 0:\n",
    "            if is_ascending:\n",
    "                return False\n",
    "        else:\n",
    "            if not is_ascending:\n",
    "                return False\n",
    "    return True\n",
    "safe_lists = [i for i in number_lists if is_safe(i)]\n",
    "\n",
    "len(safe_lists)"
   ]
  },
  {
   "cell_type": "markdown",
   "metadata": {},
   "source": [
    "# Part 2\n",
    "Done with Josiah! "
   ]
  },
  {
   "cell_type": "code",
   "execution_count": 30,
   "metadata": {},
   "outputs": [
    {
     "data": {
      "text/plain": [
       "514"
      ]
     },
     "execution_count": 30,
     "metadata": {},
     "output_type": "execute_result"
    }
   ],
   "source": [
    "# def is_safe_new(list):\n",
    "#     is_ascending = list[0] < list[1]\n",
    "#     wrongs = 0\n",
    "#     for i in range(1, len(list)):\n",
    "#         diff = list[i] - list[i-1]\n",
    "#         if diff == 0 or abs(diff) > 3:\n",
    "#             wrongs += 1\n",
    "#         elif diff < 0:\n",
    "#             if is_ascending:\n",
    "#                 wrongs += 1\n",
    "#         else:\n",
    "#             if not is_ascending:\n",
    "#                 wrongs += 1\n",
    "#         if wrongs > 1:\n",
    "#             return False\n",
    "#     return True\n",
    "\n",
    "def remove_wrong(list):\n",
    "    if is_safe(list):\n",
    "        return True\n",
    "    for i in range(0, len(list)):\n",
    "        newList = list.copy()\n",
    "        newList.pop(i)\n",
    "        if is_safe(newList):\n",
    "            return True\n",
    "    return False\n",
    "safe_lists = [i for i in number_lists if remove_wrong(i)]\n",
    "\n",
    "len(safe_lists)"
   ]
  }
 ],
 "metadata": {
  "kernelspec": {
   "display_name": ".venv",
   "language": "python",
   "name": "python3"
  },
  "language_info": {
   "codemirror_mode": {
    "name": "ipython",
    "version": 3
   },
   "file_extension": ".py",
   "mimetype": "text/x-python",
   "name": "python",
   "nbconvert_exporter": "python",
   "pygments_lexer": "ipython3",
   "version": "3.13.0"
  }
 },
 "nbformat": 4,
 "nbformat_minor": 4
}
