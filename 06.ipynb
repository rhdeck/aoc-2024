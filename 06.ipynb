{
 "cells": [
  {
   "cell_type": "code",
   "execution_count": 9,
   "metadata": {},
   "outputs": [],
   "source": [
    "def load_grid(filename):\n",
    "    grid = []\n",
    "    with open(filename, 'r') as file:\n",
    "        for line in file:\n",
    "            # Strip any trailing whitespace/newlines and convert to list of chars\n",
    "            grid.append(list(line.rstrip()))\n",
    "    return grid\n",
    "\n",
    "# Load the test file\n",
    "grid = load_grid('06.test.txt')\n",
    "\n",
    "def print_grid(grid):\n",
    "    for row in grid:\n",
    "        print(''.join(row))\n",
    "\n",
    "# print_grid(grid)"
   ]
  },
  {
   "cell_type": "code",
   "execution_count": 2,
   "metadata": {},
   "outputs": [],
   "source": [
    "def move_caret(grid, position, direction):\n",
    "    # Get current position\n",
    "    i, j = position\n",
    "    # Get current character\n",
    "    current_char = grid[i][j]\n",
    "    # Get next character in the row\n",
    "    if direction == 'up':\n",
    "        nextPos = (i-1,j) \n",
    "    elif direction == 'down':\n",
    "        nextPos = (i+1,j)\n",
    "    elif direction == 'right':\n",
    "        nextPos = (i,j+1)\n",
    "    elif direction == 'left':\n",
    "        nextPos = (i,j-1)\n",
    "    if nextPos[0] < 0 or nextPos[0] >= len(grid) or nextPos[1] < 0 or nextPos[1] >= len(grid[0]):\n",
    "        return grid, \"done\", position\n",
    "    next_char = grid[nextPos[0]][nextPos[1]]\n",
    "    if next_char == '#':\n",
    "        grid[i][j] = '+'\n",
    "        # grid[i][j+1] = '#'\n",
    "        if( direction == 'up'):\n",
    "            newDirection = 'right'\n",
    "        elif( direction == 'down'):\n",
    "            newDirection = 'left'\n",
    "        elif( direction == 'right'):\n",
    "            newDirection = 'down'\n",
    "        elif( direction == 'left'):\n",
    "            newDirection = 'up'\n",
    "        return grid, newDirection, position\n",
    "    elif next_char == '+':\n",
    "        #look at character two ahead\n",
    "        if direction == 'up':\n",
    "            afterPos = (i-2,j)\n",
    "        elif direction == 'down':\n",
    "            afterPos = (i+2,j)\n",
    "        elif direction == 'right':\n",
    "            afterPos = (i,j+2)\n",
    "        elif direction == 'left':\n",
    "            afterPos = (i,j-2)\n",
    "        if afterPos[0] < 0 or afterPos[0] >= len(grid):\n",
    "            grid[i][j] = 'X'\n",
    "            grid[nextPos[0]][nextPos[1]] = \"^\"\n",
    "            return grid, \"done\", position\n",
    "        after_char = grid[afterPos[0]][afterPos[1]]\n",
    "        if after_char == '#':\n",
    "            #oh noes this is a loop\n",
    "            return grid, \"loop\", position\n",
    "        else:\n",
    "            grid[i][j] = 'X'\n",
    "            grid[nextPos[0]][nextPos[1]] = \"^\"\n",
    "            return grid, direction, nextPos\n",
    "    else:\n",
    "        if current_char == '^': \n",
    "            grid[i][j] = 'X'\n",
    "        grid[nextPos[0]][nextPos[1]] = \"^\"\n",
    "        # print(\"moving caret to\", i, j+1)\n",
    "        return grid, direction, nextPos"
   ]
  },
  {
   "cell_type": "code",
   "execution_count": 3,
   "metadata": {},
   "outputs": [],
   "source": [
    "# locate the current character\n",
    "def find_caret(grid):\n",
    "    for i in range(len(grid)):\n",
    "        for j in range(len(grid[0])):\n",
    "            if list(grid[i][j])[0] == '^':\n",
    "                return i, j\n",
    "    print(\"Caret not found, oh noes\")\n",
    "    print_grid(grid)\n",
    "    return None\n",
    "\n"
   ]
  },
  {
   "cell_type": "code",
   "execution_count": 10,
   "metadata": {},
   "outputs": [
    {
     "name": "stdout",
     "output_type": "stream",
     "text": [
      "....#.....\n",
      "....+XXX+#\n",
      "....X...X.\n",
      "..#.X...X.\n",
      "..+XXX+#X.\n",
      "..X.X.X.X.\n",
      ".#+XXXXX+.\n",
      ".+XXXXX+#.\n",
      "#+XXXX+X..\n",
      "......#^..\n"
     ]
    }
   ],
   "source": [
    "#lets just walk the grid\n",
    "\n",
    "this_grid =  [row[:] for row in grid]\n",
    "original_position = find_caret(this_grid)\n",
    "position = original_position\n",
    "direction = \"up\"\n",
    "while(direction != \"done\"):\n",
    "    # print(\"moving from \", direction, position)\n",
    "    this_grid, direction, position = move_caret(this_grid, position, direction)\n",
    "    # print_grid(this_grid)\n",
    "    # print(\"\")\n",
    "\n",
    "print_grid(this_grid)\n"
   ]
  },
  {
   "cell_type": "code",
   "execution_count": 5,
   "metadata": {},
   "outputs": [
    {
     "name": "stdout",
     "output_type": "stream",
     "text": [
      "5067\n"
     ]
    }
   ],
   "source": [
    "count_of_x = sum([len([i for i in j if i == 'X' or i == '^' or i == '+']) for j in this_grid])\n",
    "print(count_of_x)"
   ]
  },
  {
   "cell_type": "code",
   "execution_count": 6,
   "metadata": {},
   "outputs": [],
   "source": [
    "# print_grid(grid)"
   ]
  },
  {
   "cell_type": "code",
   "execution_count": 8,
   "metadata": {},
   "outputs": [
    {
     "name": "stdout",
     "output_type": "stream",
     "text": [
      "1793\n"
     ]
    }
   ],
   "source": [
    "this_grid[position[0]][position[1]] = 'X'\n",
    "# print_grid(this_grid)\n",
    "loops = 0\n",
    "for i in range(len(this_grid)):\n",
    "    for j in range(len(this_grid[0])):\n",
    "        if(this_grid[i][j] == 'X' or this_grid[i][j] == '^' or this_grid[i][j] == '+'):\n",
    "            # make a copy of the grid\n",
    "            test_grid = [row[:] for row in grid]\n",
    "            test_grid[i][j] = '#'\n",
    "            position = original_position\n",
    "            direction = \"up\"\n",
    "            while(direction != \"done\" and direction != \"loop\"):\n",
    "                # print(\"moving from \", direction, position)\n",
    "                test_grid, direction, position = move_caret(test_grid, position, direction)\n",
    "                # print_grid(this_grid)\n",
    "                # print(\"\")\n",
    "            if(direction == \"loop\"):\n",
    "                # print(\"found loop at\", i, j)\n",
    "                # print_grid(test_grid)\n",
    "                loops += 1\n",
    "            # test putting a wall here\n",
    "            # make a copy of grid\n",
    "            # clean up\n",
    "            # grid[i][j] = 'X'\n",
    "        # if list(grid[i][j])[0] ':\n",
    "        #     print(i,j)\n",
    "\n",
    "print(loops)\n",
    "# print(len(loops))"
   ]
  }
 ],
 "metadata": {
  "kernelspec": {
   "display_name": ".venv",
   "language": "python",
   "name": "python3"
  },
  "language_info": {
   "codemirror_mode": {
    "name": "ipython",
    "version": 3
   },
   "file_extension": ".py",
   "mimetype": "text/x-python",
   "name": "python",
   "nbconvert_exporter": "python",
   "pygments_lexer": "ipython3",
   "version": "3.13.0"
  }
 },
 "nbformat": 4,
 "nbformat_minor": 2
}
