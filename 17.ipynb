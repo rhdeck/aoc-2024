{
 "cells": [
  {
   "cell_type": "markdown",
   "metadata": {},
   "source": [
    "# Data loader\n",
    "\n",
    "built with windsurf cascade"
   ]
  },
  {
   "cell_type": "code",
   "execution_count": 1,
   "metadata": {},
   "outputs": [
    {
     "name": "stdout",
     "output_type": "stream",
     "text": [
      "Registries: {'A': 729, 'B': 0, 'C': 0}\n",
      "Program: [0, 3, 5, 4, 3, 0]\n"
     ]
    }
   ],
   "source": [
    "def parse_input(filename):\n",
    "    with open(filename, 'r') as f:\n",
    "        content = f.read().strip()\n",
    "    \n",
    "    # Split into two sections\n",
    "    registry_section, program_section = content.split('\\n\\n')\n",
    "    \n",
    "    # Parse registries\n",
    "    registries = {}\n",
    "    for line in registry_section.split('\\n'):\n",
    "        if line:  # Skip empty lines\n",
    "            reg, value = line.split(': ')\n",
    "            registries[reg.split()[-1]] = int(value)\n",
    "    \n",
    "    # Parse program instructions\n",
    "    program = [int(x) for x in program_section.split('Program: ')[1].split(',')]\n",
    "    \n",
    "    return registries, program\n",
    "\n",
    "registries, program = parse_input('17.test.txt')\n",
    "\n",
    "print(\"Registries:\", registries)\n",
    "print(\"Program:\", program)"
   ]
  },
  {
   "cell_type": "markdown",
   "metadata": {},
   "source": [
    "# Part 1"
   ]
  },
  {
   "cell_type": "code",
   "execution_count": 2,
   "metadata": {},
   "outputs": [],
   "source": [
    "from math import floor\n",
    "\n",
    "registries, program = parse_input('17.txt')\n",
    "minPrintScore = 14\n",
    "# print(\"Registries:\", registries)\n",
    "def test_program(program, A, run_to_end=False):\n",
    "    # print(\"Program:\", program)\n",
    "    registries = {\n",
    "        'A': A,\n",
    "        'B': 0,\n",
    "        'C': 0\n",
    "    }\n",
    "    # print(\"registries at start are\", registries)\n",
    "    def handle_combo_operand(operand):\n",
    "        if operand < 4:\n",
    "            return operand\n",
    "        elif operand == 4:\n",
    "            return registries['A']\n",
    "        elif operand == 5:\n",
    "            return registries['B']\n",
    "        elif operand == 6:\n",
    "            return registries['C']\n",
    "    def handle_instruction(operator, operand):\n",
    "        # print(\"Handling instruction\", operator, operand)\n",
    "        if operator == 0:\n",
    "            registries['A'] = floor(registries['A'] / (2 ** handle_combo_operand(operand)))\n",
    "        elif operator == 1:\n",
    "            registries['B'] = registries['B'] ^ operand\n",
    "        elif operator == 2:\n",
    "            registries['B'] = handle_combo_operand(operand) % 8\n",
    "        elif operator == 3:\n",
    "            if registries['A'] == 0:\n",
    "                pass\n",
    "            else:\n",
    "                return \"move\", operand\n",
    "        elif operator == 4:\n",
    "            registries['B'] = registries['B'] ^ registries['C']\n",
    "        elif operator == 5:\n",
    "            return \"output\", handle_combo_operand(operand) % 8\n",
    "        elif operator == 6:\n",
    "            registries['B']  = floor(registries['A'] / (2 ** handle_combo_operand(operand)))\n",
    "        elif operator == 7:\n",
    "            registries['C']  = floor(registries['A'] / (2 ** handle_combo_operand(operand)))\n",
    "        return \"registry_updated\", 0\n",
    "\n",
    "    pointer = 0\n",
    "    outputs = []\n",
    "    while pointer < len(program):\n",
    "        if not run_to_end:\n",
    "            if(len(outputs) > len(program)):\n",
    "                print(99, len(outputs), len(program), outputs, test_program(program, A, True), A, \"Starting with 12\",  A % 8**12, A % 8**13, A % 8**14, A % 8**15, A % 8**16, A % 8**17, A % 8**18, A % 8**19, A % 8**20)\n",
    "                return False\n",
    "            for index, output in enumerate(outputs):\n",
    "                if output != program[index]:\n",
    "                    if index > minPrintScore: print(output, index, A, A % 8, A % 64, A % 512, A % 4096, A % 32768, A % 262144, A % 2097152, A % 16777216, A % 134217728, A % 1073741824, A % 8589934592, A % 7205759408, A % 5764607520, A % 4611686016, A % 3602879709)\n",
    "                    return False\n",
    "        # print(\"Pointer:\", pointer)\n",
    "        # print(\"registries\", registries)\n",
    "        operator = program[pointer]\n",
    "        operand = program[pointer + 1]\n",
    "\n",
    "        result, offset = handle_instruction(operator, operand)\n",
    "        if result == \"move\":\n",
    "            pointer = operand\n",
    "        else:\n",
    "            if result == \"output\": \n",
    "                outputs.append(offset)\n",
    "                # print(\"Updated output\", outputs)\n",
    "            pointer += 2\n",
    "       \n",
    "    if(outputs[0] == program[0]): \n",
    "        print(\"I got the first output\", outputs[0], program[0], A)\n",
    "    print(\"Final score:\",','.join([str(x) for x in outputs]))    \n",
    "    if(outputs == program):\n",
    "        return True\n",
    "    return outputs\n"
   ]
  },
  {
   "cell_type": "code",
   "execution_count": 8,
   "metadata": {},
   "outputs": [
    {
     "name": "stdout",
     "output_type": "stream",
     "text": [
      "Final score: 7,1,5,2,4,0,7,6,1\n"
     ]
    },
    {
     "data": {
      "text/plain": [
       "[7, 1, 5, 2, 4, 0, 7, 6, 1]"
      ]
     },
     "execution_count": 8,
     "metadata": {},
     "output_type": "execute_result"
    }
   ],
   "source": [
    "test_program(program, registries['A'], True)"
   ]
  },
  {
   "cell_type": "markdown",
   "metadata": {},
   "source": [
    "# Part 2\n",
    "\n",
    "Mathy brute force of which I am proud. "
   ]
  },
  {
   "cell_type": "code",
   "execution_count": 4,
   "metadata": {},
   "outputs": [
    {
     "name": "stdout",
     "output_type": "stream",
     "text": [
      "[2, 4, 1, 2, 7, 5, 1, 3, 4, 4, 5, 5, 0, 3, 3, 0]\n",
      "----- Starting lower word from 0---------------\n",
      ".....................................................................I got the first output 2 2 6995444\n",
      "Final score: 2,4,1,2,7,5,1,3\n",
      "\n",
      "Found it! 6995444\n",
      "----- Starting upper word from lower of  6995444 ---------------\n",
      "I got the first output 2 2 6995444\n",
      "Final score: 2,4,1,2,7,5,1,3\n",
      "!I got the first output 2 2 41715154420\n",
      "Final score: 2,4,1,2,7,5,1,3,4,4,5,5\n",
      "!.......................I got the first output 2 2 37222273957364\n",
      "Final score: 2,4,1,2,7,5,1,3,4,4,5,5,0,3,3,0\n",
      "\n",
      "Found it! 37222273957364\n",
      "I am so done with this\n"
     ]
    }
   ],
   "source": [
    "from math import log, floor\n",
    "minPrintScore = 14\n",
    "counter = 0\n",
    "registries, program = parse_input('17.txt')\n",
    "\n",
    "# program = [ 2,4,1,3,7,5,4,1,1,3,0,3,5,5,3,0]\n",
    "print(program)\n",
    "done = False\n",
    "lower_word = 0\n",
    "length = 0\n",
    "print(\"----- Starting lower word from 0---------------\")\n",
    "for j, pace in [(0, 1)]:\n",
    "    for i in range(j, 8**20, pace):\n",
    "        counter = counter + 1\n",
    "        out =  test_program(program, i)\n",
    "        if out == False:\n",
    "            if(counter % 100000 == 0): print(\".\", end='')\n",
    "            if counter % 10000000 == 0:\n",
    "                print(i, )\n",
    "            pass\n",
    "        else:\n",
    "            print(\"\")\n",
    "            print(\"Found it!\", i)\n",
    "            done = True\n",
    "            lower_word = i\n",
    "            length = floor(log(i, 8))+1\n",
    "            break\n",
    "       \n",
    "        if done:\n",
    "            break\n",
    "    if done:\n",
    "        break\n",
    "\n",
    "print(\"----- Starting upper word from lower of \", lower_word, \"---------------\")\n",
    "done = False\n",
    "for j, pace in [(lower_word, 8**8)]:\n",
    "    for i in range(j, 8**20, pace):\n",
    "        counter = counter + 1\n",
    "        out =  test_program(program, i)\n",
    "        if out == False:\n",
    "            if(counter % 100000 == 0): print(\".\", end='')\n",
    "            if counter % 10000000 == 0:\n",
    "                print(i, )\n",
    "            pass\n",
    "        elif out == True:\n",
    "            print(\"\")\n",
    "            print(\"Found it!\", i)\n",
    "            done = True\n",
    "            break\n",
    "        else:\n",
    "            print(\"!\", end='')\n",
    "            # byte = len(out)#byte + 1 # floor(log(i, 8))\n",
    "            # print(byte, out)\n",
    "            # current_a = i % 8**(len(out))\n",
    "            # goto_next = True\n",
    "        if done:\n",
    "            break\n",
    "    if done:\n",
    "        break\n",
    "    \n",
    "print(\"I am so done with this\")\n",
    "\n"
   ]
  }
 ],
 "metadata": {
  "kernelspec": {
   "display_name": ".venv",
   "language": "python",
   "name": "python3"
  },
  "language_info": {
   "codemirror_mode": {
    "name": "ipython",
    "version": 3
   },
   "file_extension": ".py",
   "mimetype": "text/x-python",
   "name": "python",
   "nbconvert_exporter": "python",
   "pygments_lexer": "ipython3",
   "version": "3.13.0"
  }
 },
 "nbformat": 4,
 "nbformat_minor": 2
}
