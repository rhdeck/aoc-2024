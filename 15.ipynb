{
 "cells": [
  {
   "cell_type": "markdown",
   "metadata": {},
   "source": [
    "# Data loader\n",
    "\n",
    "built with windsurf cascade"
   ]
  },
  {
   "cell_type": "code",
   "execution_count": 2,
   "metadata": {},
   "outputs": [],
   "source": [
    "def parse_input(filename):\n",
    "    with open(filename, 'r') as f:\n",
    "        # Split the input into two parts based on double newlines\n",
    "        parts = f.read().strip().split('\\n\\n')\n",
    "        \n",
    "        # Parse the grid\n",
    "        grid = [list(line) for line in parts[0].split('\\n')]\n",
    "        \n",
    "        # Parse the instructions - remove all newlines and keep as one string\n",
    "        instructions = parts[1].replace('\\n', '')\n",
    "        \n",
    "        return grid, instructions\n",
    "\n"
   ]
  },
  {
   "cell_type": "markdown",
   "metadata": {},
   "source": [
    "# Part 1\n",
    "\n",
    "Largely done by hand with infill support from windsurf"
   ]
  },
  {
   "cell_type": "code",
   "execution_count": 3,
   "metadata": {},
   "outputs": [],
   "source": [
    "def find_start_position(grid):\n",
    "    for y, row in enumerate(grid):\n",
    "        for x, cell in enumerate(row):\n",
    "            # print(cell)\n",
    "            if cell == '@':\n",
    "                return (x, y)\n",
    "    return None\n",
    "\n",
    "def move(pos, instruction):\n",
    "    # print(\"starting move\", pos, instruction)\n",
    "    x, y = pos\n",
    "    if grid[y][x] == '#':\n",
    "        return False\n",
    "    if grid[y][x] == '.':\n",
    "        return True\n",
    "\n",
    "    if instruction == '^':\n",
    "        direction= (0, - 1)\n",
    "    elif      instruction == 'v':\n",
    "\n",
    "        direction= (0,  1)\n",
    "    elif      instruction == '>':\n",
    "\n",
    "        direction= ( 1, 0)\n",
    "    elif      instruction == '<':\n",
    "\n",
    "        direction = ( - 1, 0)\n",
    "    else:\n",
    "        raise ValueError(f\"Invalid direction: {instruction}\")\n",
    "    if move((x + direction[0], y + direction[1]), instruction) == True:\n",
    "        # print(\"Moving!!!\")\n",
    "        currentChar = grid[y][x]\n",
    "        grid[y][x] = grid[y + direction[1]][x + direction[0]]\n",
    "        grid[y + direction[1]][x + direction[0]] = currentChar\n",
    "        return True\n",
    "def score(grid):\n",
    "    scores = []\n",
    "    for y, row in enumerate(grid):\n",
    "        for x, cell in enumerate(row):\n",
    "            if cell == 'O' or cell == '[':\n",
    "                scores.append(x + 100 * y)         \n",
    "    return sum(scores)"
   ]
  },
  {
   "cell_type": "code",
   "execution_count": 12,
   "metadata": {},
   "outputs": [
    {
     "name": "stdout",
     "output_type": "stream",
     "text": [
      "Score: 1516281\n"
     ]
    }
   ],
   "source": [
    "\n",
    "grid, instructions = parse_input('15.txt')\n",
    "\n",
    "for i in range(len(instructions)):\n",
    "    # print(\".\", end='')\n",
    "    move(find_start_position(grid), instructions[i])\n",
    "\n",
    "\n",
    "\n",
    "\n",
    "# # Print the grid\n",
    "# print(\"Grid:\")\n",
    "# for row in grid:\n",
    "#     print(''.join(row))\n",
    "\n",
    "print(\"Score:\", score(grid))\n",
    "\n"
   ]
  },
  {
   "cell_type": "markdown",
   "metadata": {},
   "source": [
    "# Part 2\n",
    "\n",
    "Largely done by hand with infill support. Note the messiness of move2 as reflecting an evolving understanding based move2"
   ]
  },
  {
   "cell_type": "code",
   "execution_count": 5,
   "metadata": {},
   "outputs": [
    {
     "name": "stdout",
     "output_type": "stream",
     "text": [
      "####################\n",
      "##....[]....[]..[]##\n",
      "##............[]..##\n",
      "##..[][]....[]..[]##\n",
      "##....[]@.....[]..##\n",
      "##[]##....[]......##\n",
      "##[]....[]....[]..##\n",
      "##..[][]..[]..[][]##\n",
      "##........[]......##\n",
      "####################\n"
     ]
    }
   ],
   "source": [
    "def double_grid(grid):\n",
    "    newrows = []\n",
    "    for i in range(len(grid)):\n",
    "        newrow = []\n",
    "        for j in range(len(grid[0])):\n",
    "            cell = grid[i][j]\n",
    "            if cell == '#':\n",
    "                newrow.extend(['#', '#'])\n",
    "            elif cell == '.':\n",
    "                newrow.extend(['.','.'])\n",
    "            elif cell == 'O':\n",
    "                newrow.extend(['[',']'])\n",
    "            elif cell == '@':    \n",
    "                newrow.extend(['@','.'])\n",
    "        newrows.append((newrow))\n",
    "    return newrows\n",
    "\n",
    "\n",
    "grid, instructions = parse_input('15.test.txt')\n",
    "grid = double_grid(grid)\n",
    "\n",
    "for row in grid:\n",
    "    print(''.join(row))"
   ]
  },
  {
   "cell_type": "code",
   "execution_count": 6,
   "metadata": {},
   "outputs": [],
   "source": [
    "def move2(pos, instruction, test_only = False):\n",
    "    # print(\"starting move\", pos, instruction, \"character:\", grid[pos[1]][pos[0]])\n",
    "    x, y = pos\n",
    "    if grid[y][x] == '#':\n",
    "        return False\n",
    "    if grid[y][x] == '.':\n",
    "        return True\n",
    "    is_y = False\n",
    "    if instruction == '^':\n",
    "        direction= (0, - 1)\n",
    "        is_y = True\n",
    "    elif      instruction == 'v':\n",
    "        direction= (0,  1)\n",
    "        is_y = True\n",
    "    elif      instruction == '>':\n",
    "\n",
    "        direction= ( 1, 0)\n",
    "    elif      instruction == '<':\n",
    "\n",
    "        direction = ( - 1, 0)\n",
    "    else:\n",
    "        raise ValueError(f\"Invalid direction: {instruction}\")\n",
    "    currentChar = grid[y][x]\n",
    "    if is_y == True:\n",
    "        # we need to ask what we are pushing against\n",
    "        nextChar = grid[y + direction[1]][x + direction[0]]\n",
    "        if nextChar == '[':\n",
    "            if move2((x + 1, y+direction[1]), instruction, True):\n",
    "                if move2((x, y+direction[1]), instruction, test_only):\n",
    "                    move2((x + 1, y+direction[1]), instruction, test_only)\n",
    "                    if test_only == False:\n",
    "                        grid[y][x] = grid[y + direction[1]][x + direction[0]]\n",
    "                        grid[y + direction[1]][x + direction[0]] = currentChar\n",
    "                    return True\n",
    "        elif nextChar == ']':\n",
    "            if move2((x - 1, y+direction[1]), instruction, True):\n",
    "                if move2((x, y+direction[1]), instruction, test_only):\n",
    "                    move2((x - 1, y+direction[1]), instruction, test_only)\n",
    "                    if test_only == False:\n",
    "                        grid[y][x] = grid[y + direction[1]][x + direction[0]]\n",
    "                        grid[y + direction[1]][x + direction[0]] = currentChar\n",
    "                    return True\n",
    "        else:\n",
    "            if move2((x + direction[0], y + direction[1]), instruction, test_only): \n",
    "                if test_only == False:\n",
    "                    grid[y][x] = grid[y + direction[1]][x + direction[0]]\n",
    "                    grid[y + direction[1]][x + direction[0]] = currentChar\n",
    "                return True\n",
    "        return False\n",
    "\n",
    "\n",
    "        test = True\n",
    "        if currentChar == '[':\n",
    "            test = move2((x + 1, y), instruction, True)\n",
    "        elif currentChar == ']':\n",
    "            \n",
    "            test = move2((x - 1, y), instruction, True)\n",
    "        if test == False:\n",
    "            print(\"Returning false because this is not a valid move in an adjacent cell\")\n",
    "            return False\n",
    "        print(\"I can move the adjacent thing in this direction\", )\n",
    "    if move2((x + direction[0], y + direction[1]), instruction, test_only) == True:\n",
    "        if test_only == False:\n",
    "            if is_y == True:\n",
    "                if currentChar == '[':\n",
    "                    move2((x - 1, y+direction[1]), instruction, test_only)\n",
    "                    print(\"moving adjacent thing - left\", instruction, test_only, currentChar)\n",
    "                elif currentChar == ']':\n",
    "                    move2((x + 1, y+direction[1]), instruction, test_only)\n",
    "                    print(\"moving adjacent thing - right\")\n",
    "            # print(\"Moving!!!\")\n",
    "            grid[y][x] = grid[y + direction[1]][x + direction[0]]\n",
    "            grid[y + direction[1]][x + direction[0]] = currentChar\n",
    "        return True\n",
    "\n",
    "\n",
    "    else: # not is_y - this is easy\n",
    "        if move2((x + direction[0], y + direction[1]), instruction, test_only): \n",
    "            grid[y][x] = grid[y + direction[1]][x + direction[0]]\n",
    "            grid[y + direction[1]][x + direction[0]] = currentChar\n",
    "            return True\n",
    "        return False\n"
   ]
  },
  {
   "cell_type": "code",
   "execution_count": 7,
   "metadata": {},
   "outputs": [
    {
     "name": "stdout",
     "output_type": "stream",
     "text": [
      "Score: 1527969\n"
     ]
    }
   ],
   "source": [
    "from IPython.display import clear_output\n",
    "from time import sleep\n",
    "\n",
    "grid, instructions = parse_input('15.txt')\n",
    "grid = double_grid(grid)\n",
    "# print(\"Starting positions\")\n",
    "# for row in grid:\n",
    "#     print(''.join(row))\n",
    "\n",
    "# print(find_start_position(grid))\n",
    "\n",
    "for i in range(len(instructions)):\n",
    "    move2(find_start_position(grid), instructions[i])\n",
    "\n",
    "\n",
    "print(\"Score:\", score(grid))"
   ]
  },
  {
   "cell_type": "markdown",
   "metadata": {},
   "source": [
    "# Animated Visualizer\n",
    "Built with Windsurf cascade and the input of Josiah! "
   ]
  },
  {
   "cell_type": "code",
   "execution_count": 8,
   "metadata": {},
   "outputs": [],
   "source": [
    "from PIL import Image, ImageDraw\n",
    "\n",
    "def visualize_grid(grid, cell_size=30, colors=None):\n",
    "    \"\"\"\n",
    "    Visualize a grid using Pillow.\n",
    "    \n",
    "    Args:\n",
    "        grid (List[List[str]]): The grid to visualize\n",
    "        cell_size (int): Size of each cell in pixels\n",
    "        colors (dict): Optional color mapping for different cell types\n",
    "        \n",
    "    Returns:\n",
    "        PIL.Image: The generated image\n",
    "    \"\"\"\n",
    "    if colors is None:\n",
    "        colors = {\n",
    "            '#': '#999999',  # Wall - dark gray\n",
    "            '.': '#000000',  # Empty space - white\n",
    "            '@': '#FF0000',  # Player - red\n",
    "            'O': '#0000FF',  # Object - blue\n",
    "            '[': '#990033',  # Left bracket - blue\n",
    "            ']': '#330099',  # Right bracket - blue\n",
    "        }\n",
    "    \n",
    "    height = len(grid)\n",
    "    width = len(grid[0])\n",
    "    \n",
    "    # Create a new image with a white background\n",
    "    img = Image.new('RGB', (width * cell_size, height * cell_size), 'white')\n",
    "    draw = ImageDraw.Draw(img)\n",
    "    \n",
    "    # Draw each cell\n",
    "    for y in range(height):\n",
    "        for x in range(width):\n",
    "            cell = grid[y][x]\n",
    "            color = colors.get(cell, '#CCCCCC')  # Default to gray for unknown cells\n",
    "            \n",
    "            # Calculate cell coordinates\n",
    "            left = x * cell_size\n",
    "            top = y * cell_size\n",
    "            right = left + cell_size\n",
    "            bottom = top + cell_size\n",
    "            \n",
    "            # Draw filled rectangle for the cell\n",
    "            draw.rectangle([left, top, right, bottom], fill=color, outline='#000000')\n",
    "            \n",
    "            # Add a small border to make the grid visible\n",
    "            draw.rectangle([left, top, right, bottom], outline='#000000')\n",
    "    \n",
    "    return img\n",
    "\n",
    "def save_grid_image(grid, filename, cell_size=30, colors=None):\n",
    "    \"\"\"\n",
    "    Create and save a visualization of the grid.\n",
    "    \n",
    "    Args:\n",
    "        grid (List[List[str]]): The grid to visualize\n",
    "        filename (str): Output filename (should end in .png)\n",
    "        cell_size (int): Size of each cell in pixels\n",
    "        colors (dict): Optional color mapping for different cell types\n",
    "    \"\"\"\n",
    "    img = visualize_grid(grid, cell_size, colors)\n",
    "    img.save(filename)\n",
    "    return img\n"
   ]
  },
  {
   "cell_type": "code",
   "execution_count": 9,
   "metadata": {},
   "outputs": [
    {
     "name": "stdout",
     "output_type": "stream",
     "text": [
      "Score: 9021\n"
     ]
    }
   ],
   "source": [
    "from IPython.display import clear_output\n",
    "from time import sleep\n",
    "\n",
    "grid, instructions = parse_input('15.txt')\n",
    "grid = double_grid(grid)\n",
    "\n",
    "\n",
    "\n",
    "for i in range(len(instructions)):\n",
    "    # print(\"Move\", i)\n",
    "    # print(instructions[i], end='')\n",
    "    # print('')\n",
    "    move2(find_start_position(grid), instructions[i])\n",
    "    img = visualize_grid(grid)\n",
    "    display(img)\n",
    "    sleep(0.05)\n",
    "    clear_output(wait=True)\n",
    "# for i in range(len(grid)):\n",
    "#     print(''.join(grid[i]))\n",
    " display(img)\n",
    "print(\"Score:\", score(grid))\n",
    "\n"
   ]
  },
  {
   "cell_type": "code",
   "execution_count": 10,
   "metadata": {},
   "outputs": [
    {
     "name": "stdout",
     "output_type": "stream",
     "text": [
      "####################\n",
      "##[].......[].[][]##\n",
      "##[]...........[].##\n",
      "##[]........[][][]##\n",
      "##[]......[]....[]##\n",
      "##..##......[]....##\n",
      "##..[]............##\n",
      "##..@......[].[][]##\n",
      "##......[][]..[]..##\n",
      "####################\n"
     ]
    }
   ],
   "source": [
    " for i in range(len(grid)):\n",
    "    print(''.join(grid[i]))"
   ]
  }
 ],
 "metadata": {
  "kernelspec": {
   "display_name": ".venv",
   "language": "python",
   "name": "python3"
  },
  "language_info": {
   "codemirror_mode": {
    "name": "ipython",
    "version": 3
   },
   "file_extension": ".py",
   "mimetype": "text/x-python",
   "name": "python",
   "nbconvert_exporter": "python",
   "pygments_lexer": "ipython3",
   "version": "3.13.0"
  }
 },
 "nbformat": 4,
 "nbformat_minor": 2
}
