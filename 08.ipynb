{
 "cells": [
  {
   "cell_type": "code",
   "execution_count": 50,
   "metadata": {},
   "outputs": [
    {
     "name": "stdout",
     "output_type": "stream",
     "text": [
      "Grid dimensions: 50x50\n",
      "Number of non-dot elements: 212\n",
      "Non-dot coordinates: [('V', (11, 0)), ('b', (30, 0)), ('g', (32, 0)), ('g', (34, 1)), ('c', (29, 2)), ('T', (12, 3)), ('Z', (21, 3)), ('P', (29, 3)), ('x', (1, 4)), ('V', (26, 4)), ('P', (27, 4)), ('P', (26, 5)), ('H', (27, 5)), ('H', (17, 6)), ('Z', (23, 6)), ('g', (31, 6)), ('R', (33, 6)), ('f', (6, 7)), ('T', (19, 7)), ('V', (21, 7)), ('b', (26, 7)), ('A', (33, 7)), ('P', (22, 8)), ('f', (7, 9)), ('A', (26, 9)), ('R', (40, 9)), ('x', (8, 10)), ('T', (23, 10)), ('l', (31, 10)), ('H', (34, 10)), ('A', (40, 10)), ('c', (42, 10)), ('k', (2, 11)), ('x', (5, 11)), ('Z', (20, 11)), ('5', (8, 12)), ('S', (13, 12)), ('0', (29, 12)), ('A', (31, 12)), ('N', (13, 13)), ('L', (18, 13)), ('f', (1, 14)), ('T', (30, 14)), ('s', (39, 14)), ('N', (45, 14)), ('l', (18, 15)), ('b', (29, 15)), ('H', (30, 15)), ('t', (38, 15)), ('c', (39, 15)), ('R', (41, 15)), ('N', (44, 15)), ('Z', (6, 16)), ('6', (10, 16)), ('n', (17, 16)), ('l', (24, 16)), ('k', (28, 16)), ('N', (30, 16)), ('0', (34, 16)), ('g', (11, 17)), ('S', (16, 17)), ('l', (23, 17)), ('r', (25, 17)), ('t', (43, 17)), ('s', (46, 17)), ('L', (2, 18)), ('b', (19, 18)), ('K', (27, 18)), ('t', (30, 18)), ('5', (16, 19)), ('n', (21, 19)), ('0', (30, 19)), ('c', (44, 19)), ('L', (5, 20)), ('n', (12, 20)), ('E', (41, 20)), ('k', (1, 21)), ('L', (9, 21)), ('m', (26, 21)), ('E', (48, 21)), ('s', (49, 21)), ('S', (14, 22)), ('t', (15, 22)), ('5', (21, 22)), ('R', (26, 22)), ('m', (27, 22)), ('6', (12, 23)), ('5', (15, 23)), ('3', (35, 23)), ('0', (39, 23)), ('k', (11, 24)), ('W', (29, 24)), ('3', (38, 24)), ('n', (16, 25)), ('K', (23, 25)), ('E', (27, 25)), ('2', (32, 25)), ('S', (33, 25)), ('3', (44, 25)), ('E', (36, 26)), ('Q', (41, 26)), ('M', (10, 27)), ('x', (16, 27)), ('K', (32, 27)), ('h', (2, 28)), ('1', (32, 28)), ('6', (1, 29)), ('z', (14, 29)), ('4', (29, 29)), ('e', (33, 29)), ('W', (43, 29)), ('Y', (44, 29)), ('y', (49, 29)), ('f', (8, 30)), ('a', (21, 30)), ('Y', (29, 30)), ('y', (32, 30)), ('s', (36, 30)), ('h', (3, 31)), ('r', (16, 31)), ('v', (30, 31)), ('m', (35, 31)), ('h', (5, 32)), ('v', (23, 32)), ('m', (28, 32)), ('Y', (34, 32)), ('Q', (36, 32)), ('W', (42, 32)), ('3', (43, 32)), ('Y', (25, 33)), ('q', (26, 33)), ('Q', (31, 33)), ('7', (49, 33)), ('6', (9, 34)), ('7', (24, 34)), ('9', (42, 34)), ('X', (19, 35)), ('y', (30, 35)), ('q', (33, 35)), ('2', (39, 35)), ('r', (12, 36)), ('q', (27, 36)), ('y', (33, 36)), ('7', (45, 36)), ('8', (47, 36)), ('B', (2, 37)), ('M', (17, 37)), ('4', (22, 37)), ('9', (35, 37)), ('1', (3, 38)), ('M', (11, 38)), ('X', (15, 38)), ('C', (23, 38)), ('G', (24, 38)), ('z', (25, 38)), ('p', (26, 38)), ('4', (30, 38)), ('B', (33, 38)), ('2', (37, 38)), ('K', (40, 38)), ('z', (21, 39)), ('v', (25, 39)), ('Q', (30, 39)), ('8', (36, 39)), ('9', (48, 39)), ('B', (0, 40)), ('X', (8, 40)), ('F', (10, 40)), ('r', (15, 40)), ('M', (16, 40)), ('v', (20, 40)), ('2', (36, 40)), ('8', (40, 40)), ('D', (43, 40)), ('h', (0, 41)), ('1', (1, 41)), ('7', (32, 41)), ('D', (35, 41)), ('8', (41, 41)), ('d', (46, 41)), ('F', (15, 42)), ('9', (37, 42)), ('D', (38, 42)), ('4', (43, 42)), ('d', (48, 42)), ('a', (10, 43)), ('p', (17, 43)), ('F', (30, 43)), ('W', (40, 43)), ('D', (42, 43)), ('d', (49, 43)), ('G', (25, 44)), ('C', (28, 44)), ('q', (40, 44)), ('B', (3, 45)), ('C', (38, 45)), ('w', (9, 46)), ('z', (20, 46)), ('p', (25, 46)), ('e', (47, 46)), ('a', (1, 47)), ('G', (14, 47)), ('w', (19, 47)), ('p', (28, 47)), ('F', (37, 47)), ('e', (46, 47)), ('a', (8, 48)), ('w', (12, 48)), ('w', (8, 49)), ('X', (24, 49)), ('C', (25, 49)), ('G', (33, 49))]\n"
     ]
    }
   ],
   "source": [
    "with open('08.txt', 'r') as file:\n",
    "    grid = [line.strip() for line in file.readlines()]\n",
    "\n",
    "# Get dimensions\n",
    "height = len(grid)\n",
    "width = len(grid[0]) if height > 0 else 0\n",
    "\n",
    "# Find all non-dot coordinates\n",
    "non_dot_coords = []\n",
    "for y in range(height):\n",
    "    for x in range(width):\n",
    "        if grid[y][x] != '.':\n",
    "            non_dot_coords.append((grid[y][x], (x, y)))\n",
    "\n",
    "print(f\"Grid dimensions: {width}x{height}\")\n",
    "print(f\"Number of non-dot elements: {len(non_dot_coords)}\")\n",
    "print(\"Non-dot coordinates:\", non_dot_coords)"
   ]
  },
  {
   "cell_type": "markdown",
   "metadata": {},
   "source": [
    "# Part 1"
   ]
  },
  {
   "cell_type": "code",
   "execution_count": 51,
   "metadata": {},
   "outputs": [
    {
     "data": {
      "text/plain": [
       "392"
      ]
     },
     "execution_count": 51,
     "metadata": {},
     "output_type": "execute_result"
    }
   ],
   "source": [
    "candidates = set()\n",
    "for ndc in non_dot_coords:\n",
    "    char, (x, y) = ndc\n",
    "    potential_pairs = [x for x in non_dot_coords if x[0] == char and x != ndc]\n",
    "    for pair in potential_pairs:\n",
    "        distance = (x-pair[1][0], y-pair[1][1])\n",
    "        # print(f\"Found matching pair: {char} at {x},{y} and {pair[0]} at {pair[1]}\", f\"Distance: {distance}\")\n",
    "        other_point = (x+ distance[0],y + distance[1])\n",
    "        if(other_point[0] < 0 or other_point[0] >= width or other_point[1] < 0 or other_point[1] >= height):\n",
    "            continue\n",
    "        candidates.add(other_point)\n",
    "\n",
    "len(candidates)"
   ]
  },
  {
   "cell_type": "markdown",
   "metadata": {},
   "source": [
    "# Part 2"
   ]
  },
  {
   "cell_type": "code",
   "execution_count": 52,
   "metadata": {},
   "outputs": [
    {
     "data": {
      "text/plain": [
       "1235"
      ]
     },
     "execution_count": 52,
     "metadata": {},
     "output_type": "execute_result"
    }
   ],
   "source": [
    "candidates = set([x[1] for x in non_dot_coords])\n",
    "for ndc in non_dot_coords:\n",
    "    char, (x, y) = ndc\n",
    "    potential_pairs = [x for x in non_dot_coords if x[0] == char and x != ndc]\n",
    "    for pair in potential_pairs:\n",
    "        distance = (x-pair[1][0], y-pair[1][1])\n",
    "        other_point = (x,y)\n",
    "        while True:\n",
    "        # print(f\"Found matching pair: {char} at {x},{y} and {pair[0]} at {pair[1]}\", f\"Distance: {distance}\")\n",
    "            other_point = (other_point[0]+ distance[0],other_point[1] + distance[1])\n",
    "            if(other_point[0] < 0 or other_point[0] >= width or other_point[1] < 0 or other_point[1] >= height):\n",
    "                break\n",
    "            candidates.add(other_point)\n",
    "\n",
    "len(candidates)"
   ]
  },
  {
   "cell_type": "code",
   "execution_count": 53,
   "metadata": {},
   "outputs": [],
   "source": [
    "# candidates"
   ]
  },
  {
   "cell_type": "code",
   "execution_count": 54,
   "metadata": {},
   "outputs": [
    {
     "name": "stdout",
     "output_type": "stream",
     "text": [
      "...........V..................b.g.................\n",
      "..................................g...............\n",
      ".............................c....................\n",
      "............T........Z.......P....................\n",
      ".x........................VP......................\n",
      "..........................PH......................\n",
      ".................H.....Z.......g.R................\n",
      "......f............T.V....b......A................\n",
      "......................P...........................\n",
      ".......f..................A.............R.........\n",
      "........x..............T.......l..H.....A.c.......\n",
      "..k..x..............Z.............................\n",
      "........5....S...............0.A..................\n",
      ".............N....L...............................\n",
      ".f............................T........s.....N....\n",
      "..................l..........bH.......tc.R..N.....\n",
      "......Z...6......n......l...k.N...0...............\n",
      "...........g....S......l.r.................t..s...\n",
      "..L................b.......K..t...................\n",
      "................5....n........0.............c.....\n",
      ".....L......n............................E........\n",
      ".k.......L................m.....................Es\n",
      "..............St.....5....Rm......................\n",
      "............6..5...................3...0..........\n",
      "...........k.................W........3...........\n",
      "................n......K...E....2S..........3.....\n",
      "....................................E....Q........\n",
      "..........M.....x...............K.................\n",
      "..h.............................1.................\n",
      ".6............z..............4...e.........WY....y\n",
      "........f............a.......Y..y...s.............\n",
      "...h............r.............v....m..............\n",
      ".....h.................v....m.....Y.Q.....W3......\n",
      ".........................Yq....Q.................7\n",
      ".........6..............7.................9.......\n",
      "...................X..........y..q.....2..........\n",
      "............r..............q.....y...........7.8..\n",
      "..B..............M....4............9..............\n",
      "...1.......M...X.......CGzp...4..B...2..K.........\n",
      ".....................z...v....Q.....8...........9.\n",
      "B.......X.F....rM...v...............2...8..D......\n",
      "h1..............................7..D.....8....d...\n",
      "...............F.....................9D....4....d.\n",
      "..........a......p............F.........W.D......d\n",
      ".........................G..C...........q.........\n",
      "...B..................................C...........\n",
      ".........w..........z....p.....................e..\n",
      ".a............G....w........p........F........e...\n",
      "........a...w.....................................\n",
      "........w...............XC.......G................\n"
     ]
    }
   ],
   "source": [
    "def visualize(grid, candidates):\n",
    "    for y in range(height):\n",
    "        for x in range(width):\n",
    "            if grid[y][x] != '.':\n",
    "                print(grid[y][x], end='')\n",
    "            elif (x,y) in candidates:\n",
    "                print('#', end='')\n",
    "            else:\n",
    "                print(grid[y][x], end='')\n",
    "        print()\n",
    "\n",
    "visualize(grid, [])"
   ]
  },
  {
   "cell_type": "code",
   "execution_count": 55,
   "metadata": {},
   "outputs": [
    {
     "data": {
      "image/jpeg": "[encoded data removed]",
      "image/png": "[encoded data removed]",
      "text/plain": [
       "<PIL.Image.Image image mode=RGB size=500x500>"
      ]
     },
     "metadata": {},
     "output_type": "display_data"
    }
   ],
   "source": [
    "from PIL import Image\n",
    "import numpy as np\n",
    "\n",
    "def visualize(grid, candidates):\n",
    "    height = len(grid)\n",
    "    width = len(grid[0]) if height > 0 else 0\n",
    "    \n",
    "    # Create a new RGB image\n",
    "    img = Image.new('RGB', (width, height), color='black')\n",
    "    pixels = img.load()\n",
    "    \n",
    "    for y in range(height):\n",
    "        for x in range(width):\n",
    "            if grid[y][x] != '.':\n",
    "                # Non-dot characters get colors based on ASCII value\n",
    "                ascii_val = ord(grid[y][x])\n",
    "                r = (ascii_val * 71) % 256\n",
    "                g = (ascii_val * 89) % 256\n",
    "                b = (ascii_val * 113) % 256\n",
    "                pixels[x, y] = (r, g, b)\n",
    "            elif (x,y) in candidates:\n",
    "                # Candidates are white\n",
    "                pixels[x, y] = (255, 255, 255)\n",
    "            else:\n",
    "                # Regular dots are black (already set by default)\n",
    "                continue\n",
    "    \n",
    "    # Scale up the image to make it more visible\n",
    "    scale = 10\n",
    "    img_scaled = img.resize((width * scale, height * scale), Image.Resampling.NEAREST)\n",
    "    \n",
    "    # Display the image\n",
    "    display(img_scaled)\n",
    "\n",
    "visualize(grid, [])"
   ]
  }
 ],
 "metadata": {
  "kernelspec": {
   "display_name": ".venv",
   "language": "python",
   "name": "python3"
  },
  "language_info": {
   "codemirror_mode": {
    "name": "ipython",
    "version": 3
   },
   "file_extension": ".py",
   "mimetype": "text/x-python",
   "name": "python",
   "nbconvert_exporter": "python",
   "pygments_lexer": "ipython3",
   "version": "3.13.0"
  }
 },
 "nbformat": 4,
 "nbformat_minor": 2
}
