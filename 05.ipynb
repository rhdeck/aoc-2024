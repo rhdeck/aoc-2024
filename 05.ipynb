{
 "cells": [
  {
   "cell_type": "code",
   "execution_count": 27,
   "metadata": {},
   "outputs": [],
   "source": [
    "def parse_input(filename):\n",
    "    with open(filename, 'r') as f:\n",
    "        content = f.read()\n",
    "    \n",
    "    # Split the content at the blank line\n",
    "    parts = content.strip().split('\\n\\n')\n",
    "    \n",
    "    # Parse the first part - paired numbers\n",
    "    pairs = []\n",
    "    for line in parts[0].strip().split('\\n'):\n",
    "        a, b = line.split('|')\n",
    "        pairs.append((int(a), int(b)))\n",
    "    \n",
    "    # Parse the second part - lists of integers\n",
    "    lists = []\n",
    "    for line in parts[1].strip().split('\\n'):\n",
    "        numbers = [int(x) for x in line.split(',')]\n",
    "        lists.append(numbers)\n",
    "    \n",
    "    return pairs, lists\n",
    "\n",
    "# Test the parser\n",
    "pairs, lists = parse_input('05.txt')\n",
    "# print(\"Pairs:\")\n",
    "# for pair in pairs:\n",
    "#     print(pair)\n",
    "# print(\"\\nLists:\")\n",
    "# for lst in lists:\n",
    "#     print(lst)\n"
   ]
  },
  {
   "cell_type": "code",
   "execution_count": 28,
   "metadata": {},
   "outputs": [
    {
     "data": {
      "text/plain": [
       "5713"
      ]
     },
     "execution_count": 28,
     "metadata": {},
     "output_type": "execute_result"
    }
   ],
   "source": [
    "def test_sequence(sequence):\n",
    "    for i in pairs:\n",
    "        if i[0] in sequence and i[1] in sequence:\n",
    "            if(sequence.index(i[0]) > sequence.index(i[1])):\n",
    "                return False\n",
    "    return True\n",
    "\n",
    "\n",
    "def get_center(sequence):\n",
    "    if len(sequence) % 2 == 0:\n",
    "        return sequence[len(sequence)//2 - 1]\n",
    "    else:\n",
    "        return sequence[len(sequence)//2]\n",
    "\n",
    "sum([get_center(i) for i in lists if test_sequence(i)])"
   ]
  },
  {
   "cell_type": "code",
   "execution_count": 29,
   "metadata": {},
   "outputs": [
    {
     "data": {
      "text/plain": [
       "5180"
      ]
     },
     "execution_count": 29,
     "metadata": {},
     "output_type": "execute_result"
    }
   ],
   "source": [
    "\n",
    "def fix_sequence(sequence):\n",
    "    while not test_sequence(sequence):\n",
    "        for i in pairs:\n",
    "            if i[0] in sequence and i[1] in sequence:\n",
    "                if(sequence.index(i[0]) > sequence.index(i[1])):\n",
    "                    index0 = sequence.index(i[0])\n",
    "                    index1 = sequence.index(i[1])\n",
    "                    sequence.remove(i[0])\n",
    "                    sequence.remove(i[1])\n",
    "                    sequence.insert(index0, i[1])\n",
    "                    sequence.insert(index1, i[0])\n",
    "    return sequence\n",
    "\n",
    "fixed_sequences = [fix_sequence(i) for i in lists if not test_sequence(i)]\n",
    "centers = [get_center(i) for i in fixed_sequences]\n",
    "part_2 = sum(centers)\n",
    "\n",
    "part_2\n",
    "\n",
    "# fixed_sequences\n",
    "\n"
   ]
  }
 ],
 "metadata": {
  "kernelspec": {
   "display_name": ".venv",
   "language": "python",
   "name": "python3"
  },
  "language_info": {
   "codemirror_mode": {
    "name": "ipython",
    "version": 3
   },
   "file_extension": ".py",
   "mimetype": "text/x-python",
   "name": "python",
   "nbconvert_exporter": "python",
   "pygments_lexer": "ipython3",
   "version": "3.13.0"
  }
 },
 "nbformat": 4,
 "nbformat_minor": 2
}
