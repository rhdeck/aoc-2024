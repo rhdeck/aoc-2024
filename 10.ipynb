{
 "cells": [
  {
   "cell_type": "code",
   "execution_count": null,
   "metadata": {},
   "outputs": [],
   "source": []
  },
  {
   "cell_type": "code",
   "execution_count": 2,
   "metadata": {},
   "outputs": [
    {
     "name": "stdout",
     "output_type": "stream",
     "text": [
      "[['8', '9', '0', '1', '0', '1', '2', '3'], ['7', '8', '1', '2', '1', '8', '7', '4'], ['8', '7', '4', '3', '0', '9', '6', '5'], ['9', '6', '5', '4', '9', '8', '7', '4'], ['4', '5', '6', '7', '8', '9', '0', '3'], ['3', '2', '0', '1', '9', '0', '1', '2'], ['0', '1', '3', '2', '9', '8', '0', '1'], ['1', '0', '4', '5', '6', '7', '3', '2']]\n"
     ]
    }
   ],
   "source": [
    "with open('10.test.txt', 'r') as f:\n",
    "    input = f.read()\n",
    "    lines = input.strip().split('\\n')\n",
    "    grid = [[int(c) for c in line] for line in lines] #[list(line) for line in lines]\n"
   ]
  },
  {
   "cell_type": "code",
   "execution_count": 3,
   "metadata": {},
   "outputs": [
    {
     "data": {
      "text/plain": [
       "[]"
      ]
     },
     "execution_count": 3,
     "metadata": {},
     "output_type": "execute_result"
    }
   ],
   "source": [
    "# find locations of all nines using a list comprehension\n",
    "nines = [(i, j) for i in range(len(grid)) for j in range(len(grid[i])) if grid[i][j] == 9]\n",
    "\n",
    "nines\n"
   ]
  }
 ],
 "metadata": {
  "kernelspec": {
   "display_name": ".venv",
   "language": "python",
   "name": "python3"
  },
  "language_info": {
   "codemirror_mode": {
    "name": "ipython",
    "version": 3
   },
   "file_extension": ".py",
   "mimetype": "text/x-python",
   "name": "python",
   "nbconvert_exporter": "python",
   "pygments_lexer": "ipython3",
   "version": "3.13.0"
  }
 },
 "nbformat": 4,
 "nbformat_minor": 2
}
