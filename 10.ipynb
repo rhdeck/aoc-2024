{
 "cells": [
  {
   "cell_type": "code",
   "execution_count": 1,
   "metadata": {},
   "outputs": [],
   "source": [
    "with open('10.txt', 'r') as f:\n",
    "    input = f.read()\n",
    "    lines = input.strip().split('\\n')\n",
    "    grid = [[int(c) for c in line] for line in lines] #[list(line) for line in lines]\n",
    "\n",
    "# grid"
   ]
  },
  {
   "cell_type": "markdown",
   "metadata": {},
   "source": [
    "# Part 1\n",
    "Using infill/autocomplete in windsurf"
   ]
  },
  {
   "cell_type": "code",
   "execution_count": 2,
   "metadata": {},
   "outputs": [],
   "source": [
    "# find locations of all nines using a list comprehension\n",
    "zeroes = [(i, j) for i in range(len(grid)) for j in range(len(grid[i])) if grid[i][j] == 0]\n"
   ]
  },
  {
   "cell_type": "code",
   "execution_count": 3,
   "metadata": {},
   "outputs": [
    {
     "name": "stdout",
     "output_type": "stream",
     "text": [
      "646\n"
     ]
    }
   ],
   "source": [
    "scores = []\n",
    "for (zrow,zcol) in zeroes:\n",
    "    nexts = set()\n",
    "    nexts.add((zrow, zcol))\n",
    "    for step in range(1, 10):\n",
    "        newNexts = set()\n",
    "        for (row, col) in nexts:\n",
    "            # look up, down, left, right\n",
    "            up = (row - 1, col)\n",
    "            down = (row + 1, col)\n",
    "            left = (row, col - 1)\n",
    "            right = (row, col + 1)\n",
    "            if up[0] >= 0 and grid[up[0]][up[1]] == step:\n",
    "                newNexts.add((up[0], up[1]))\n",
    "            if down[0] < len(grid) and grid[down[0]][down[1]] == step:\n",
    "                newNexts.add((down[0], down[1]))\n",
    "            if left[1] >= 0 and grid[left[0]][left[1]] == step:\n",
    "                newNexts.add((left[0], left[1]))\n",
    "            if right[1] < len(grid[0]) and grid[right[0]][right[1]] == step:\n",
    "                newNexts.add((right[0], right[1]))\n",
    "            nexts = newNexts\n",
    "    scores.append(len(nexts))\n",
    "\n",
    "print(sum(scores))"
   ]
  },
  {
   "cell_type": "markdown",
   "metadata": {},
   "source": [
    "# Part 2"
   ]
  },
  {
   "cell_type": "code",
   "execution_count": 4,
   "metadata": {},
   "outputs": [],
   "source": [
    "\n",
    "# print(grid)\n",
    "nines = [(i, j) for i in range(len(grid)) for j in range(len(grid[i])) if grid[i][j] == 9]\n",
    "grid_of_zeroes = [[0 for _ in range(len(grid[0]))] for _ in range(len(grid))]\n",
    "for (i, j) in nines:\n",
    "    grid_of_zeroes[i][j] = 1\n",
    "paths_up = {}\n",
    "\n",
    "\n",
    "def calculate_grid(nines, step):\n",
    "    output = []\n",
    "    for (row,col) in nines:\n",
    "        up = (row - 1, col)\n",
    "        down = (row + 1, col)\n",
    "        left = (row, col - 1)\n",
    "        right = (row, col + 1)\n",
    "        currentValue  = grid[row][col]\n",
    "        if up[0] >= 0 and grid[up[0]][up[1]] == step:\n",
    "            grid_of_zeroes[up[0]][up[1]] += currentValue\n",
    "            output.append((up[0], up[1]))\n",
    "        if down[0] < len(grid) and grid[down[0]][down[1]] == step:\n",
    "            grid_of_zeroes[down[0]][down[1]] += currentValue\n",
    "            output.append((down[0], down[1])) \n",
    "        if left[1] >= 0 and grid[left[0]][left[1]] == step:\n",
    "            grid_of_zeroes[left[0]][left[1]] += currentValue\n",
    "            output.append((left[0], left[1]))\n",
    "        if right[1] < len(grid[0]) and grid[right[0]][right[1]] == step:\n",
    "            grid_of_zeroes[right[0]][right[1]] += currentValue\n",
    "            output.append((right[0], right[1]))\n",
    "    return output\n",
    "nines = [(i, j) for i in range(len(grid)) for j in range(len(grid[i])) if grid[i][j] == 9]\n",
    "for i in range(8, -1, -1):\n",
    "    nines = calculate_grid(nines,i)\n"
   ]
  },
  {
   "cell_type": "code",
   "execution_count": 14,
   "metadata": {},
   "outputs": [
    {
     "data": {
      "text/plain": [
       "1494"
      ]
     },
     "execution_count": 14,
     "metadata": {},
     "output_type": "execute_result"
    }
   ],
   "source": [
    "sum([grid_of_zeroes[cell[0]][cell[1]] for cell in zeroes])"
   ]
  }
 ],
 "metadata": {
  "kernelspec": {
   "display_name": ".venv",
   "language": "python",
   "name": "python3"
  },
  "language_info": {
   "codemirror_mode": {
    "name": "ipython",
    "version": 3
   },
   "file_extension": ".py",
   "mimetype": "text/x-python",
   "name": "python",
   "nbconvert_exporter": "python",
   "pygments_lexer": "ipython3",
   "version": "3.13.0"
  }
 },
 "nbformat": 4,
 "nbformat_minor": 2
}
