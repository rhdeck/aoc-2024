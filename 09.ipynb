{
 "cells": [
  {
   "cell_type": "code",
   "execution_count": 1,
   "metadata": {},
   "outputs": [
    {
     "name": "stdout",
     "output_type": "stream",
     "text": [
      "19999\n"
     ]
    }
   ],
   "source": [
    "with open('09.txt', 'r') as f:\n",
    "    input = f.read()\n",
    "\n",
    "numbers = [int(x) for x in input.strip()] \n",
    "# print(numbers)\n",
    "# sum(numbers)\n",
    "print(len(numbers))"
   ]
  },
  {
   "cell_type": "code",
   "execution_count": 2,
   "metadata": {},
   "outputs": [],
   "source": [
    "spaces = list(range(sum(numbers)))\n",
    "pos = 0\n",
    "# print(len(numbers))\n",
    "for index in range(len(numbers)):\n",
    "    for i in range(numbers[index]):\n",
    "        if index % 2 == 0:\n",
    "            spaces[pos] = index / 2\n",
    "        else:\n",
    "            spaces[pos] = -1\n",
    "        pos += 1\n",
    "\n",
    "# print(spaces)\n"
   ]
  },
  {
   "cell_type": "code",
   "execution_count": 3,
   "metadata": {},
   "outputs": [
    {
     "name": "stdout",
     "output_type": "stream",
     "text": [
      "49827 49827\n"
     ]
    }
   ],
   "source": [
    "index = 0\n",
    "while index < len(spaces):\n",
    "    if spaces[index] == -1:\n",
    "        try:\n",
    "            spaces[index] = spaces.pop()\n",
    "        except:\n",
    "            print(index, len(spaces))\n",
    "            break\n",
    "            raise Exception(\"That was not good\")\n",
    "        # print(''.join([str(x) for x in spaces]), len(spaces))\n",
    "    else: \n",
    "        index += 1\n",
    "\n",
    "# print(spaces)\n",
    "# print(spaces[-2:])\n",
    "# len(spaces)\n",
    "# len(\"0099811188827773336446555566\")"
   ]
  },
  {
   "cell_type": "code",
   "execution_count": 4,
   "metadata": {},
   "outputs": [
    {
     "data": {
      "text/plain": [
       "6279058075753.0"
      ]
     },
     "execution_count": 4,
     "metadata": {},
     "output_type": "execute_result"
    }
   ],
   "source": [
    "checksum = sum([spaces[x]*x for x in range(len(spaces))])\n",
    "\n",
    "checksum"
   ]
  },
  {
   "cell_type": "markdown",
   "metadata": {},
   "source": [
    "# Part 2"
   ]
  },
  {
   "cell_type": "code",
   "execution_count": 5,
   "metadata": {},
   "outputs": [],
   "source": [
    "spaces = [-1 for _ in range(sum(numbers))] #list(range(sum(numbers)))\n",
    "pos = 0\n",
    "lenNumbers = len(numbers)\n",
    "for index in range(lenNumbers):\n",
    "    for i in range(numbers[index]):\n",
    "        if index % 2 == 0:\n",
    "            spaces[pos] = index / 2\n",
    "        pos += 1\n"
   ]
  },
  {
   "cell_type": "code",
   "execution_count": 6,
   "metadata": {},
   "outputs": [],
   "source": [
    "words = [{\"type\": \"file\", \"status\": \"incomplete\", \"length\": numbers[i], \"position\": int(i/2)} if i % 2 == 0 else { \"type\": \"gap\", \"length\": numbers[i]} for i in range(len(numbers))]\n",
    "\n",
    "def getLettersFromWords(words):\n",
    "    lettersFromWords = [[x.get(\"position\")] * x.get(\"length\") for x in words] # [list for x in words]\n",
    "    flat_list = [\n",
    "        x\n",
    "        for xs in lettersFromWords\n",
    "        for x in xs\n",
    "    ]\n",
    "    return flat_list\n",
    "\n",
    "flat_list = getLettersFromWords(words)\n",
    "# flat_list"
   ]
  },
  {
   "cell_type": "code",
   "execution_count": 7,
   "metadata": {},
   "outputs": [],
   "source": [
    "for lastWord in reversed(words): \n",
    "    if lastWord.get(\"type\") == \"file\" and lastWord.get(\"status\") == 'incomplete' :\n",
    "        lastWord[\"status\"] = \"complete\"\n",
    "        # iterate over the length of the word list to find any where type is gap and length is greater than or equal to lastWord length\n",
    "        for i in range(len(words)):\n",
    "            word = words[i]\n",
    "            if(word == lastWord):\n",
    "                break\n",
    "            if word.get(\"type\") == \"gap\":\n",
    "                l = word.get(\"length\") - lastWord.get(\"length\")\n",
    "                if l >= 0:\n",
    "                    # set the status of the word to complete\n",
    "                    words[i] = lastWord.copy()\n",
    "                    lastWord[\"type\"] = \"gap\"\n",
    "                    lastWord[\"position\"] = None\n",
    "                    words.insert(i+1, {\"type\": \"gap\", \"length\": l})\n",
    "                    break"
   ]
  },
  {
   "cell_type": "code",
   "execution_count": 8,
   "metadata": {},
   "outputs": [
    {
     "data": {
      "text/plain": [
       "6301361958738"
      ]
     },
     "execution_count": 8,
     "metadata": {},
     "output_type": "execute_result"
    }
   ],
   "source": [
    "pos = 0\n",
    "checksum = 0\n",
    "for word in words:\n",
    "    for i in range(word.get(\"length\")):\n",
    "        if word.get(\"type\") == \"file\":\n",
    "            checksum += word.get(\"position\") * (pos + i)\n",
    "    pos += word.get(\"length\")\n",
    "\n",
    "checksum"
   ]
  }
 ],
 "metadata": {
  "kernelspec": {
   "display_name": ".venv",
   "language": "python",
   "name": "python3"
  },
  "language_info": {
   "codemirror_mode": {
    "name": "ipython",
    "version": 3
   },
   "file_extension": ".py",
   "mimetype": "text/x-python",
   "name": "python",
   "nbconvert_exporter": "python",
   "pygments_lexer": "ipython3",
   "version": "3.13.0"
  }
 },
 "nbformat": 4,
 "nbformat_minor": 2
}
